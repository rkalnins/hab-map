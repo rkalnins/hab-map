{
 "cells": [
  {
   "cell_type": "code",
   "execution_count": 1,
   "metadata": {},
   "outputs": [],
   "source": [
    "import pandas as pd\n",
    "import geopandas\n",
    "import matplotlib.pyplot as plt"
   ]
  },
  {
   "cell_type": "code",
   "execution_count": 2,
   "metadata": {},
   "outputs": [],
   "source": [
    "size = (100, 500)"
   ]
  },
  {
   "cell_type": "code",
   "execution_count": 3,
   "metadata": {},
   "outputs": [],
   "source": [
    "coords = pd.read_csv('coord.csv')\n",
    "cities = pd.read_csv('cities.csv')\n",
    "events = pd.read_csv('events.csv')\n",
    "events_gdf = geopandas.GeoDataFrame(events, geometry=geopandas.points_from_xy(events.longitude, events.latitude))\n",
    "cities_gdf = geopandas.GeoDataFrame(cities, geometry=geopandas.points_from_xy(cities.longitude, cities.latitude))\n",
    "gdf        = geopandas.GeoDataFrame(coords, geometry=geopandas.points_from_xy(coords.longitude, coords.latitude))"
   ]
  },
  {
   "cell_type": "code",
   "execution_count": 4,
   "metadata": {},
   "outputs": [],
   "source": [
    "mi_polit = geopandas.read_file('mi_counties/Counties_v17a.shp')\n",
    "mi_road = geopandas.read_file('michigan_highway/michigan_highway.shp')\n",
    "# mi_nat = geopandas.read_file('michigan_natural/michigan_natural.shp')\n",
    "mi_water = geopandas.read_file('michigan_water/michigan_water.shp')\n",
    "mi_coast = geopandas.read_file('michigan_coastline/michigan_coastline.shp')"
   ]
  },
  {
   "cell_type": "code",
   "execution_count": 5,
   "metadata": {},
   "outputs": [
    {
     "data": {
      "image/png": "[encoded data removed]",
      "text/plain": [
       "<Figure size 720x432 with 1 Axes>"
      ]
     },
     "metadata": {
      "needs_background": "light"
     },
     "output_type": "display_data"
    }
   ],
   "source": [
    "vmin, vmax = 0, 30000\n",
    "variable = 'altitude'\n",
    "fig, ax = plt.subplots(1, figsize=(10, 6))"
   ]
  },
  {
   "cell_type": "code",
   "execution_count": 6,
   "metadata": {},
   "outputs": [
    {
     "name": "stderr",
     "output_type": "stream",
     "text": [
      "/Users/robertskalnins/.local/share/virtualenvs/hab-map-ZsLNSQcN/lib/python3.7/site-packages/matplotlib/figure.py:445: UserWarning: Matplotlib is currently using module://ipykernel.pylab.backend_inline, which is a non-GUI backend, so cannot show the figure.\n",
      "  % get_backend())\n"
     ]
    },
    {
     "data": {
      "text/plain": [
       "<Figure size 432x288 with 0 Axes>"
      ]
     },
     "metadata": {},
     "output_type": "display_data"
    }
   ],
   "source": [
    "polit = mi_polit.cx[-80:-88, 40:44].plot(ax=ax, color='white', edgecolor='black', figsize=size)\n",
    "road = mi_road.cx[-80:-88, 40:44.25].plot(ax=polit, color='grey', edgecolor='grey', alpha=0.01, figsize=size)\n",
    "# coast = mi_coast.cx[-80:-88, 40:44].plot(ax=road, color='blue', edgecolor='blue', figsize=size)\n",
    "water = mi_water.cx[-80:-88, 40:44].plot(ax=road, color='blue', alpha=0.2, figsize=size)\n",
    "# land = mi_land.cx[-80:-88, 40:44].plot(ax=water, color='white', alpha=0.1, edgecolor='brown', figsize=(20,25))\n",
    "cities = cities_gdf.plot(ax=water, markersize=4, color='purple', figsize=size)\n",
    "course = gdf.plot(ax=cities, markersize=4, column=variable, cmap='Reds', figsize=size)\n",
    "events = events_gdf.plot(ax=course, markersize=6, color='yellow', figsize=size)\n",
    "\n",
    "for x, y, label in zip(events_gdf.geometry.x, events_gdf.geometry.y, events_gdf.name):\n",
    "    events.annotate(label, xy=(x, y), fontsize=6, xytext=(4, -4), textcoords=\"offset points\")\n",
    "\n",
    "for x, y, label in zip(cities_gdf.geometry.x, cities_gdf.geometry.y, cities_gdf.name):\n",
    "    events.annotate(label, xy=(x, y), fontsize=6, xytext=(4, 4), textcoords=\"offset points\")\n",
    "    \n",
    "ax.set_title('KARB IIB Flight Path', fontdict={'fontsize': '25', 'fontweight' : '3'})\n",
    "ax.set_xlabel('latitude')\n",
    "ax.set_ylabel('longitude')\n",
    "ax.annotate('Made with geopandas',xy=(0.1, .08),  xycoords='figure fraction', horizontalalignment='left', verticalalignment='top', fontsize=12, color='#555555')\n",
    "\n",
    "sm = plt.cm.ScalarMappable(cmap='Reds', norm=plt.Normalize(vmin=vmin, vmax=vmax))\n",
    "sm._A = []\n",
    "cbar = fig.colorbar(sm)\n",
    "cbar.set_label('Altitude (m)', rotation=270, labelpad=15)\n",
    "\n",
    "fig.savefig('final.png', dpi=600)\n",
    "fig.show()"
   ]
  },
  {
   "cell_type": "code",
   "execution_count": null,
   "metadata": {},
   "outputs": [],
   "source": []
  }
 ],
 "metadata": {
  "kernelspec": {
   "display_name": "hab-map",
   "language": "python",
   "name": "hab-map"
  },
  "language_info": {
   "codemirror_mode": {
    "name": "ipython",
    "version": 3
   },
   "file_extension": ".py",
   "mimetype": "text/x-python",
   "name": "python",
   "nbconvert_exporter": "python",
   "pygments_lexer": "ipython3",
   "version": "3.7.3"
  }
 },
 "nbformat": 4,
 "nbformat_minor": 2
}
